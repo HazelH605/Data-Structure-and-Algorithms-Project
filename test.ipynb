{
 "cells": [
  {
   "cell_type": "markdown",
   "id": "8a8b55de-09d2-4158-bc38-224aa1eacf3f",
   "metadata": {},
   "source": [
    "# 测试用例"
   ]
  },
  {
   "cell_type": "code",
   "execution_count": 1,
   "id": "890d4aa5-8199-4584-9a88-7514e59cdada",
   "metadata": {},
   "outputs": [],
   "source": [
    "import random"
   ]
  },
  {
   "cell_type": "markdown",
   "id": "00cc2a77-548c-43f3-8bc8-19a7e6c41318",
   "metadata": {},
   "source": [
    "## 一、营销任务优先调度"
   ]
  },
  {
   "cell_type": "code",
   "execution_count": 2,
   "id": "8399157d-bc99-49cd-9675-da0f63b3ad62",
   "metadata": {},
   "outputs": [
    {
     "name": "stdout",
     "output_type": "stream",
     "text": [
      "添加如下营销任务：\n",
      "营销任务1 urgency = 3 impact = 8 priority = 24\n",
      "营销任务2 urgency = 8 impact = 3 priority = 24\n",
      "营销任务3 urgency = 7 impact = 6 priority = 42\n",
      "营销任务4 urgency = 7 impact = 9 priority = 63\n",
      "营销任务5 urgency = 2 impact = 9 priority = 18\n",
      "营销任务6 urgency = 2 impact = 2 priority = 4\n",
      "营销任务7 urgency = 8 impact = 5 priority = 40\n",
      "营销任务8 urgency = 1 impact = 4 priority = 4\n",
      "营销任务9 urgency = 6 impact = 4 priority = 24\n",
      "营销任务10 urgency = 5 impact = 4 priority = 20\n",
      "营销任务11 urgency = 3 impact = 3 priority = 9\n",
      "营销任务12 urgency = 4 impact = 6 priority = 24\n",
      "营销任务13 urgency = 6 impact = 7 priority = 42\n",
      "营销任务14 urgency = 4 impact = 7 priority = 28\n",
      "营销任务15 urgency = 8 impact = 9 priority = 72\n",
      "营销任务16 urgency = 5 impact = 7 priority = 35\n",
      "营销任务17 urgency = 3 impact = 2 priority = 6\n",
      "营销任务18 urgency = 3 impact = 1 priority = 3\n",
      "营销任务19 urgency = 10 impact = 7 priority = 70\n",
      "营销任务20 urgency = 3 impact = 10 priority = 30\n",
      "营销任务3 依赖于 营销任务1\n",
      "营销任务6 依赖于 营销任务4\n",
      "营销任务13 依赖于 营销任务5\n",
      "营销任务7 依赖于 营销任务9\n",
      "营销任务6 依赖于 营销任务7\n",
      "营销任务2 依赖于 营销任务17\n",
      "营销任务18 依赖于 营销任务8\n",
      "可执行的任务有 14 个\n",
      "优先级最高的5个可执行的任务是 [营销任务15, 营销任务19, 营销任务4, 营销任务16, 营销任务20]\n"
     ]
    }
   ],
   "source": [
    "import Task\n",
    "# 实例化一个TaskScheduler\n",
    "my_tasks = Task.TaskScheduler()\n",
    "n = 20\n",
    "\n",
    "# 随机生成并添加n个营销任务(名称、紧急度（1-10）、影响力（1-10）)\n",
    "random.seed(100)\n",
    "task_list = []\n",
    "print(\"添加如下营销任务：\")\n",
    "for i in range(n):\n",
    "    m = random.randint(1, 10)\n",
    "    k = random.randint(1, 10)\n",
    "    new_task = my_tasks.add_new_task(f'营销任务{i+1}', m, k)\n",
    "    task_list.append(new_task)\n",
    "    print(new_task.get_name(),\n",
    "          \"urgency =\", new_task.get_urgency(),\n",
    "          \"impact =\", new_task.get_impact(),\n",
    "          \"priority =\", new_task.get_priority())\n",
    "\n",
    "# 生成并添加一些依赖关系\n",
    "d = {1:3, 4:6, 5:13, 9:7, 7:6, 17:2, 8:18}\n",
    "for i, j in d.items():\n",
    "    dependency = my_tasks.add_dependency(task_list[i-1], task_list[j-1])\n",
    "    print(dependency)\n",
    "\n",
    "print(\"可执行的任务有\", my_tasks.available_task_count(), \"个\")\n",
    "print(\"优先级最高的5个可执行的任务是\", my_tasks.top_k_tasks(5))"
   ]
  },
  {
   "cell_type": "code",
   "execution_count": 3,
   "id": "890d6923-479b-420e-844f-6f3d7bed186a",
   "metadata": {},
   "outputs": [
    {
     "name": "stdout",
     "output_type": "stream",
     "text": [
      "共还有 18 个任务\n",
      "可执行的任务包括\n",
      " [营销任务4, 营销任务16, 营销任务19, 营销任务9, 营销任务20, 营销任务3, 营销任务7, 营销任务8, 营销任务17, 营销任务10, 营销任务11, 营销任务5, 营销任务12, 营销任务14]\n",
      "其中优先级最高的5个可执行的任务是\n",
      " ['营销任务4: 优先级为72', '营销任务19: 优先级为70', '营销任务3: 优先级为42', '营销任务7: 优先级为40', '营销任务16: 优先级为35']\n"
     ]
    }
   ],
   "source": [
    "# 执行优先级最高的任务\n",
    "my_tasks.do_top_task()\n",
    "# 移除营销任务1\n",
    "my_tasks.remove_task(task_list[0])\n",
    "# 修改任务4的紧急度\n",
    "my_tasks.modify_task(task_list[3], urgency=8)\n",
    "# 移除任务7对任务9的依赖\n",
    "my_tasks.remove_dependency(task_list[8], task_list[6])\n",
    "print(\"共还有\", my_tasks.task_count(), \"个任务\")\n",
    "print(\"可执行的任务包括\\n\", my_tasks.get_available_tasks())\n",
    "print(\"其中优先级最高的5个可执行的任务是\\n\", [f'{task.get_name()}: 优先级为{task.get_priority()}' for task in my_tasks.top_k_tasks(5)])"
   ]
  },
  {
   "cell_type": "markdown",
   "id": "80a108ae-cadb-4ac1-9eab-81af6f24b7ee",
   "metadata": {},
   "source": [
    "\n",
    "## 二、客户网络与影响力传播分析"
   ]
  },
  {
   "cell_type": "code",
   "execution_count": 4,
   "id": "8d97d0a8-9656-4e98-aafa-d40049354a4d",
   "metadata": {},
   "outputs": [
    {
     "name": "stdout",
     "output_type": "stream",
     "text": [
      "客户1的重要性为 0.012472441139081171\n",
      "客户1可以影响到的客户有 [客户1, 客户50, 客户26, 客户39, 客户55, 客户90, 客户89, 客户5, 客户51, 客户10, 客户68, 客户85, 客户21, 客户99, 客户81, 客户17, 客户11, 客户97, 客户56, 客户27, 客户54, 客户52, 客户48, 客户67, 客户73, 客户44, 客户86, 客户38, 客户16, 客户62, 客户18, 客户19, 客户23, 客户34, 客户36, 客户28, 客户82, 客户22, 客户79, 客户47, 客户70, 客户76, 客户64, 客户7, 客户49, 客户91, 客户96, 客户33, 客户94, 客户31, 客户53, 客户25, 客户98, 客户45, 客户9, 客户78]\n",
      "不计超过三层影响关系与小于0.05的影响力，客户1可以影响到的客户有 [客户1, 客户50, 客户27, 客户78, 客户49, 客户34, 客户97]\n"
     ]
    }
   ],
   "source": [
    "import Customer\n",
    "# 创建一个CustomerNetwork实例\n",
    "G = Customer.CustomerNetwork()\n",
    "n = 100\n",
    "random.seed(99)\n",
    "customer_list = []\n",
    "\n",
    "# 添加n名客户\n",
    "for i in range(n):\n",
    "    customer_list.append(G.add_customer(f'客户{i+1}'))\n",
    "\n",
    "# 随机设置一些客户之间的影响关系和影响力权重(0<=weight<=1)\n",
    "for i in range(n):\n",
    "    # 对于每个用户，随机生成0-3个 outgoing edge\n",
    "    number_of_outgoing = random.randint(0, 3)\n",
    "    sample = random.sample(list(set(range(n)) - {i}), number_of_outgoing)\n",
    "    for j in range(number_of_outgoing):\n",
    "        G.add_relationship(customer_list[i], customer_list[sample[j]], random.random())\n",
    "\n",
    "customer1 = customer_list[0]\n",
    "print('客户1的重要性为', G.page_rank()[customer1])\n",
    "print('客户1可以影响到的客户有', G.reachable_customers()[customer1])\n",
    "print('不计超过三层影响关系与小于0.05的影响力，客户1可以影响到的客户有', G.reachable_customers_pruned(max_depth=3, min_influence=0.05)[customer1])"
   ]
  },
  {
   "cell_type": "markdown",
   "id": "93c328a2-4086-4011-9e38-a6be8e71d1ef",
   "metadata": {},
   "source": [
    "\n",
    "## 三、商品数据检索"
   ]
  },
  {
   "cell_type": "code",
   "execution_count": 5,
   "id": "5d7b4bd1-ab64-470d-b75c-23e371c3f00c",
   "metadata": {},
   "outputs": [
    {
     "name": "stdout",
     "output_type": "stream",
     "text": [
      "[Banana, Apple, Orange] 价格3~7的商品\n",
      "[Pear, Apple, Orange, Grape] 删除banana后剩余商品\n",
      "[Orange, Grape] 删除apple和pear后剩余商品\n",
      "[] 旧价格查询（应无结果）\n",
      "[Orange] 新价格查询\n",
      "[] 空树查询\n"
     ]
    }
   ],
   "source": [
    "import Commodity\n",
    "searcher = Commodity.CommoditySearcher(4)\n",
    "apple = searcher.insert(\"Apple\", 5, 100)\n",
    "banana = searcher.insert(\"Banana\", 3, 80)\n",
    "orange = searcher.insert(\"Orange\", 7, 90)\n",
    "pear = searcher.insert(\"Pear\", 2, 70)\n",
    "grape = searcher.insert(\"Grape\", 9, 95)\n",
    "print(searcher.search_range(3, 7), \"价格3~7的商品\")\n",
    "searcher.delete(banana)\n",
    "print(searcher.search_range(0, 10), \"删除banana后剩余商品\")\n",
    "searcher.delete(pear)\n",
    "searcher.delete(apple)\n",
    "print(searcher.search_range(0, 10), \"删除apple和pear后剩余商品\")\n",
    "orange = searcher.modify(orange, price=8)\n",
    "print(searcher.search_range(7, 7), \"旧价格查询（应无结果）\")\n",
    "print(searcher.search_range(8, 8), \"新价格查询\")\n",
    "searcher.delete(grape)\n",
    "searcher.delete(orange)\n",
    "print(searcher.search_range(0, 10), \"空树查询\")"
   ]
  }
 ],
 "metadata": {
  "kernelspec": {
   "display_name": "Python 3 (ipykernel)",
   "language": "python",
   "name": "python3"
  },
  "language_info": {
   "codemirror_mode": {
    "name": "ipython",
    "version": 3
   },
   "file_extension": ".py",
   "mimetype": "text/x-python",
   "name": "python",
   "nbconvert_exporter": "python",
   "pygments_lexer": "ipython3",
   "version": "3.11.5"
  }
 },
 "nbformat": 4,
 "nbformat_minor": 5
}
